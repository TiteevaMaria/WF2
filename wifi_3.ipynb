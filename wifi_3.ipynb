{
 "cells": [
  {
   "cell_type": "code",
   "execution_count": 1,
   "metadata": {},
   "outputs": [],
   "source": [
    "import numpy as np\n",
    "from sklearn.model_selection import train_test_split # деление данных на тренировочные и тестовые\n",
    "from sklearn import metrics, linear_model # подсчет точности, линейная регрессия (тренируемая модель)"
   ]
  },
  {
   "cell_type": "code",
   "execution_count": 2,
   "metadata": {},
   "outputs": [],
   "source": [
    "\n",
    "file = open(\"wifi_localization.txt\") # исходные данные\n",
    "\n",
    "WF = [] # качество сигнала для предсказания комнат \n",
    "RM = [] # номера комнат в соответствии с качеством сигнала WF\n",
    "\n",
    "# первые семь значений строки - WF, сигнал, последнее - соответствующий ему номер комнаты RM\n",
    "for s in file:\n",
    "    WF.append(s.split()[:7])\n",
    "    RM.append(s.split()[7:])\n",
    "\n",
    "# преобразование в нампай \n",
    "WF = np.array(WF, dtype = int)\n",
    "RM = np.array(RM, dtype = int)"
   ]
  },
  {
   "cell_type": "code",
   "execution_count": 3,
   "metadata": {},
   "outputs": [],
   "source": [
    "WF_train, WF_test, RM_train, RM_test = train_test_split(WF, RM, random_state = 0) # разбиение на тренировочные и тестовые данные"
   ]
  },
  {
   "cell_type": "code",
   "execution_count": 4,
   "metadata": {},
   "outputs": [
    {
     "name": "stderr",
     "output_type": "stream",
     "text": [
      "D:\\Anaconda3\\lib\\site-packages\\sklearn\\utils\\validation.py:761: DataConversionWarning: A column-vector y was passed when a 1d array was expected. Please change the shape of y to (n_samples, ), for example using ravel().\n",
      "  y = column_or_1d(y, warn=True)\n"
     ]
    },
    {
     "data": {
      "text/plain": [
       "LogisticRegression(C=10, class_weight=None, dual=False, fit_intercept=True,\n",
       "          intercept_scaling=1, max_iter=10000, multi_class='auto',\n",
       "          n_jobs=None, penalty='l2', random_state=None, solver='lbfgs',\n",
       "          tol=0.0001, verbose=0, warm_start=False)"
      ]
     },
     "execution_count": 4,
     "metadata": {},
     "output_type": "execute_result"
    }
   ],
   "source": [
    "logreg = linear_model.LogisticRegression(C = 10, solver = 'lbfgs', max_iter = 10000, multi_class = 'auto') # создание модели\n",
    "logreg.fit(WF_train, RM_train) # тренировка модели"
   ]
  },
  {
   "cell_type": "code",
   "execution_count": 5,
   "metadata": {},
   "outputs": [
    {
     "name": "stdout",
     "output_type": "stream",
     "text": [
      "Accuracy: 0.986\n"
     ]
    }
   ],
   "source": [
    "pred = logreg.predict(WF_test) # отправка тестовых данных в модель\n",
    "print(\"Accuracy:\", metrics.accuracy_score(RM_test, pred)) # подсчет точности предсказания"
   ]
  },
  {
   "cell_type": "code",
   "execution_count": 10,
   "metadata": {},
   "outputs": [
    {
     "name": "stdout",
     "output_type": "stream",
     "text": [
      "Должно быть: [2]  Получилось: 3\n",
      "Должно быть: [2]  Получилось: 3\n",
      "Должно быть: [3]  Получилось: 4\n",
      "Должно быть: [2]  Получилось: 3\n",
      "Должно быть: [2]  Получилось: 3\n",
      "Должно быть: [3]  Получилось: 2\n",
      "Должно быть: [3]  Получилось: 1\n",
      "\n",
      "Вероятность, что сеть в комнате\n",
      "[        1              2             3             4        ]\n",
      "[[7.37704286e-11 6.27333241e-02 9.37266676e-01 1.78609223e-10]\n",
      " [3.70223220e-10 2.38350390e-01 7.61649608e-01 2.12072695e-09]\n",
      " [4.06575122e-06 6.59463297e-10 5.63299900e-02 9.43665944e-01]\n",
      " [2.06596920e-04 2.02033549e-01 7.97759853e-01 6.33555732e-10]\n",
      " [3.27977950e-10 2.34585504e-01 7.65414496e-01 3.51624364e-10]\n",
      " [1.30295567e-10 5.30934884e-01 4.69065116e-01 1.68221866e-11]\n",
      " [9.77427675e-01 2.72531172e-08 2.25705284e-02 1.76914746e-06]]\n"
     ]
    }
   ],
   "source": [
    "room = []\n",
    "# сравнение предсказанного с действительным\n",
    "for i, j in enumerate(RM_test): \n",
    "    if pred[i] != j:\n",
    "        room.append(i)\n",
    "\n",
    "spTest = []\n",
    "# сохранение ошибочных предсказаний\n",
    "for i in room: \n",
    "    spTest.append(WF_test[i])  \n",
    "spTest = np.array(spTest)\n",
    "\n",
    "# вывод\n",
    "for i in room: \n",
    "    print(\"Должно быть:\", RM_test[i], \" Получилось:\", pred[i])\n",
    "print()\n",
    "print(\"Вероятность, что сеть в комнате\")\n",
    "print(\"[        1              2             3             4        ]\")\n",
    "print(logreg.predict_proba(spTest))"
   ]
  },
  {
   "cell_type": "code",
   "execution_count": null,
   "metadata": {},
   "outputs": [],
   "source": []
  },
  {
   "cell_type": "code",
   "execution_count": null,
   "metadata": {},
   "outputs": [],
   "source": []
  }
 ],
 "metadata": {
  "kernelspec": {
   "display_name": "Python 3",
   "language": "python",
   "name": "python3"
  },
  "language_info": {
   "codemirror_mode": {
    "name": "ipython",
    "version": 3
   },
   "file_extension": ".py",
   "mimetype": "text/x-python",
   "name": "python",
   "nbconvert_exporter": "python",
   "pygments_lexer": "ipython3",
   "version": "3.7.1"
  }
 },
 "nbformat": 4,
 "nbformat_minor": 2
}
